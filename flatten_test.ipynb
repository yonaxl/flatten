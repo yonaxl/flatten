{
 "cells": [
  {
   "cell_type": "code",
   "execution_count": 7,
   "metadata": {},
   "outputs": [],
   "source": [
    "def flatten(arr):\n",
    "    to_return = []\n",
    "    for x in arr:\n",
    "        if isinstance(x, list):\n",
    "            for y in flatten(x):\n",
    "                to_return.append(y)\n",
    "        else:\n",
    "            to_return.append(x)\n",
    "    return to_return"
   ]
  },
  {
   "cell_type": "code",
   "execution_count": 10,
   "metadata": {},
   "outputs": [],
   "source": [
    "test_cases = [\n",
    "([[[1, [], [2, 3]], [[4]], 5]], [1, 2, 3, 4, 5]),\n",
    "([[[], [], [], [], []]], []),\n",
    "([[[], [], 1, [], 1, [], []]], [1, 1]),\n",
    "([[1, 2, 3, [[4]]]], [1, 2, 3, 4]),\n",
    "([[1, 4, 6]], [1, 4, 6]),\n",
    "([[\"moe\", \"curly\", \"larry\"]], [\"moe\", \"curly\", \"larry\"]),\n",
    "([[\"a\", \"b\", [\"c\"], [\"d\"], [[\"e\"]]]], [\"a\", \"b\", \"c\", \"d\", \"e\"])\n",
    "]"
   ]
  },
  {
   "cell_type": "code",
   "execution_count": 14,
   "metadata": {},
   "outputs": [
    {
     "name": "stdout",
     "output_type": "stream",
     "text": [
      "test Input: [[[1, [], [2, 3]], [[4]], 5]]\n",
      "expected: [1, 2, 3, 4, 5]\n",
      "got: [1, 2, 3, 4, 5]\n",
      "test pass? : True\n",
      "\n",
      "test Input: [[[], [], [], [], []]]\n",
      "expected: []\n",
      "got: []\n",
      "test pass? : True\n",
      "\n",
      "test Input: [[[], [], 1, [], 1, [], []]]\n",
      "expected: [1, 1]\n",
      "got: [1, 1]\n",
      "test pass? : True\n",
      "\n",
      "test Input: [[1, 2, 3, [[4]]]]\n",
      "expected: [1, 2, 3, 4]\n",
      "got: [1, 2, 3, 4]\n",
      "test pass? : True\n",
      "\n",
      "test Input: [[1, 4, 6]]\n",
      "expected: [1, 4, 6]\n",
      "got: [1, 4, 6]\n",
      "test pass? : True\n",
      "\n",
      "test Input: [['moe', 'curly', 'larry']]\n",
      "expected: ['moe', 'curly', 'larry']\n",
      "got: ['moe', 'curly', 'larry']\n",
      "test pass? : True\n",
      "\n",
      "test Input: [['a', 'b', ['c'], ['d'], [['e']]]]\n",
      "expected: ['a', 'b', 'c', 'd', 'e']\n",
      "got: ['a', 'b', 'c', 'd', 'e']\n",
      "test pass? : True\n",
      "\n"
     ]
    }
   ],
   "source": [
    "for (test, result) in test_cases:\n",
    "    output = flatten(test)\n",
    "    print(\"test Input: \" + str(test))\n",
    "    print(\"expected: \" + str(result))\n",
    "    print(\"got: \" + str(output))\n",
    "    print(\"test pass? : \" + str(output == result))\n",
    "    print()\n"
   ]
  }
 ],
 "metadata": {
  "interpreter": {
   "hash": "aee8b7b246df8f9039afb4144a1f6fd8d2ca17a180786b69acc140d282b71a49"
  },
  "kernelspec": {
   "display_name": "Python 3.9.1 64-bit",
   "language": "python",
   "name": "python3"
  },
  "language_info": {
   "codemirror_mode": {
    "name": "ipython",
    "version": 3
   },
   "file_extension": ".py",
   "mimetype": "text/x-python",
   "name": "python",
   "nbconvert_exporter": "python",
   "pygments_lexer": "ipython3",
   "version": "3.9.1"
  },
  "orig_nbformat": 4
 },
 "nbformat": 4,
 "nbformat_minor": 2
}
